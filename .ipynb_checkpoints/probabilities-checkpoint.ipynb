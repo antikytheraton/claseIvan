{
 "cells": [
  {
   "cell_type": "code",
   "execution_count": 13,
   "metadata": {},
   "outputs": [
    {
     "name": "stdout",
     "output_type": "stream",
     "text": [
      "[2, 1]\n"
     ]
    }
   ],
   "source": [
    "import numpy as np\n",
    "X = np.array([[-1,-1],[-2,-2],[1,1],[2,1]])\n",
    "y = np. array([1,1,2,2])\n",
    "\n",
    "from sklearn.svm import SVC\n",
    "clf = SVC(probability=True)\n",
    "clf.fit(X,y)\n",
    "\n",
    "results = clf.predict_proba([[1,1],[2,2],[1,1],[2,2]])[0]\n",
    "\n",
    "prob_per_class_dictionary = dict(zip(clf.classes_, results))\n",
    "\n",
    "results_ordered_by_probability = map(lambda x: x[0], sorted(zip(clf.classes_, results), key=lambda x: x[1], reverse=True))\n",
    "\n",
    "print(list(results_ordered_by_probability))"
   ]
  },
  {
   "cell_type": "code",
   "execution_count": 20,
   "metadata": {},
   "outputs": [
    {
     "name": "stdout",
     "output_type": "stream",
     "text": [
      "0.9999999999999998\n"
     ]
    }
   ],
   "source": [
    "from sklearn.svm import LinearSVC\n",
    "from sklearn.calibration import CalibratedClassifierCV\n",
    "from sklearn import datasets\n",
    "\n",
    "#Load iris dataset\n",
    "iris = datasets.load_iris()\n",
    "X = iris.data[:, :2] # Using only two features\n",
    "y = iris.target      #3 classes: 0, 1, 2\n",
    "\n",
    "linear_svc = LinearSVC()     #The base estimator\n",
    "\n",
    "# This is the calibrated classifier which can give probabilistic classifier\n",
    "calibrated_svc = CalibratedClassifierCV(linear_svc,\n",
    "                                        method='sigmoid',  #sigmoid will use Platt's scaling. Refer to documentation for other methods.\n",
    "                                        cv=3) \n",
    "calibrated_svc.fit(X, y)\n",
    "\n",
    "\n",
    "# predict\n",
    "prediction_data = [[2.3, 5],\n",
    "                   [4, 7]]\n",
    "predicted_probs = calibrated_svc.predict_proba(prediction_data)  #important to use predict_proba\n",
    "print(sum(map(float,predicted_probs[0])))"
   ]
  },
  {
   "cell_type": "code",
   "execution_count": null,
   "metadata": {
    "collapsed": true
   },
   "outputs": [],
   "source": []
  }
 ],
 "metadata": {
  "kernelspec": {
   "display_name": "Python 3",
   "language": "python",
   "name": "python3"
  },
  "language_info": {
   "codemirror_mode": {
    "name": "ipython",
    "version": 3
   },
   "file_extension": ".py",
   "mimetype": "text/x-python",
   "name": "python",
   "nbconvert_exporter": "python",
   "pygments_lexer": "ipython3",
   "version": "3.6.2"
  }
 },
 "nbformat": 4,
 "nbformat_minor": 2
}
