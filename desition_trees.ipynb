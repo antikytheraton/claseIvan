{
 "cells": [
  {
   "cell_type": "markdown",
   "metadata": {},
   "source": [
    "# Arboles de desicion"
   ]
  },
  {
   "cell_type": "code",
   "execution_count": 47,
   "metadata": {},
   "outputs": [
    {
     "data": {
      "text/html": [
       "<div>\n",
       "<style>\n",
       "    .dataframe thead tr:only-child th {\n",
       "        text-align: right;\n",
       "    }\n",
       "\n",
       "    .dataframe thead th {\n",
       "        text-align: left;\n",
       "    }\n",
       "\n",
       "    .dataframe tbody tr th {\n",
       "        vertical-align: top;\n",
       "    }\n",
       "</style>\n",
       "<table border=\"1\" class=\"dataframe\">\n",
       "  <thead>\n",
       "    <tr style=\"text-align: right;\">\n",
       "      <th></th>\n",
       "      <th>PERSPECTIVA</th>\n",
       "      <th>TEMPERATURA</th>\n",
       "      <th>HUMEDAD</th>\n",
       "      <th>VIENTO</th>\n",
       "      <th>HORAS JUGADAS</th>\n",
       "    </tr>\n",
       "  </thead>\n",
       "  <tbody>\n",
       "    <tr>\n",
       "      <th>0</th>\n",
       "      <td>lluvioso</td>\n",
       "      <td>caluroso</td>\n",
       "      <td>alta</td>\n",
       "      <td>no</td>\n",
       "      <td>26</td>\n",
       "    </tr>\n",
       "    <tr>\n",
       "      <th>1</th>\n",
       "      <td>lluvioso</td>\n",
       "      <td>caluroso</td>\n",
       "      <td>alta</td>\n",
       "      <td>sí</td>\n",
       "      <td>30</td>\n",
       "    </tr>\n",
       "    <tr>\n",
       "      <th>2</th>\n",
       "      <td>nublado</td>\n",
       "      <td>caluroso</td>\n",
       "      <td>alta</td>\n",
       "      <td>no</td>\n",
       "      <td>48</td>\n",
       "    </tr>\n",
       "    <tr>\n",
       "      <th>3</th>\n",
       "      <td>soleado</td>\n",
       "      <td>templado</td>\n",
       "      <td>alta</td>\n",
       "      <td>no</td>\n",
       "      <td>46</td>\n",
       "    </tr>\n",
       "    <tr>\n",
       "      <th>4</th>\n",
       "      <td>soleado</td>\n",
       "      <td>fresco</td>\n",
       "      <td>normal</td>\n",
       "      <td>no</td>\n",
       "      <td>62</td>\n",
       "    </tr>\n",
       "    <tr>\n",
       "      <th>5</th>\n",
       "      <td>soleado</td>\n",
       "      <td>fresco</td>\n",
       "      <td>normal</td>\n",
       "      <td>sí</td>\n",
       "      <td>23</td>\n",
       "    </tr>\n",
       "    <tr>\n",
       "      <th>6</th>\n",
       "      <td>nublado</td>\n",
       "      <td>fresco</td>\n",
       "      <td>normal</td>\n",
       "      <td>sí</td>\n",
       "      <td>43</td>\n",
       "    </tr>\n",
       "    <tr>\n",
       "      <th>7</th>\n",
       "      <td>lluvioso</td>\n",
       "      <td>templado</td>\n",
       "      <td>alta</td>\n",
       "      <td>no</td>\n",
       "      <td>36</td>\n",
       "    </tr>\n",
       "    <tr>\n",
       "      <th>8</th>\n",
       "      <td>lluvioso</td>\n",
       "      <td>fresco</td>\n",
       "      <td>normal</td>\n",
       "      <td>no</td>\n",
       "      <td>38</td>\n",
       "    </tr>\n",
       "    <tr>\n",
       "      <th>9</th>\n",
       "      <td>soleado</td>\n",
       "      <td>templado</td>\n",
       "      <td>normal</td>\n",
       "      <td>no</td>\n",
       "      <td>46</td>\n",
       "    </tr>\n",
       "    <tr>\n",
       "      <th>10</th>\n",
       "      <td>lluvioso</td>\n",
       "      <td>templado</td>\n",
       "      <td>normal</td>\n",
       "      <td>sí</td>\n",
       "      <td>48</td>\n",
       "    </tr>\n",
       "    <tr>\n",
       "      <th>11</th>\n",
       "      <td>nublado</td>\n",
       "      <td>templado</td>\n",
       "      <td>alta</td>\n",
       "      <td>sí</td>\n",
       "      <td>62</td>\n",
       "    </tr>\n",
       "    <tr>\n",
       "      <th>12</th>\n",
       "      <td>nublado</td>\n",
       "      <td>caluroso</td>\n",
       "      <td>normal</td>\n",
       "      <td>no</td>\n",
       "      <td>44</td>\n",
       "    </tr>\n",
       "    <tr>\n",
       "      <th>13</th>\n",
       "      <td>soleado</td>\n",
       "      <td>templado</td>\n",
       "      <td>alta</td>\n",
       "      <td>sí</td>\n",
       "      <td>30</td>\n",
       "    </tr>\n",
       "  </tbody>\n",
       "</table>\n",
       "</div>"
      ],
      "text/plain": [
       "   PERSPECTIVA TEMPERATURA HUMEDAD VIENTO  HORAS JUGADAS\n",
       "0     lluvioso    caluroso    alta     no             26\n",
       "1     lluvioso    caluroso    alta     sí             30\n",
       "2      nublado    caluroso    alta     no             48\n",
       "3      soleado    templado    alta     no             46\n",
       "4      soleado      fresco  normal     no             62\n",
       "5      soleado      fresco  normal     sí             23\n",
       "6      nublado      fresco  normal     sí             43\n",
       "7     lluvioso    templado    alta     no             36\n",
       "8     lluvioso      fresco  normal     no             38\n",
       "9      soleado    templado  normal     no             46\n",
       "10    lluvioso    templado  normal     sí             48\n",
       "11     nublado    templado    alta     sí             62\n",
       "12     nublado    caluroso  normal     no             44\n",
       "13     soleado    templado    alta     sí             30"
      ]
     },
     "execution_count": 47,
     "metadata": {},
     "output_type": "execute_result"
    }
   ],
   "source": [
    "import pandas as pd\n",
    "df = pd.read_csv('data_dec_trees.csv')\n",
    "df"
   ]
  },
  {
   "cell_type": "code",
   "execution_count": 48,
   "metadata": {},
   "outputs": [
    {
     "data": {
      "text/plain": [
       "11.536985776897124"
      ]
     },
     "execution_count": 48,
     "metadata": {},
     "output_type": "execute_result"
    }
   ],
   "source": [
    "import numpy as np\n",
    "standard_deviation = np.std(df['HORAS JUGADAS'])\n",
    "standard_deviation"
   ]
  },
  {
   "cell_type": "code",
   "execution_count": 57,
   "metadata": {},
   "outputs": [
    {
     "data": {
      "text/plain": [
       "7.5259550888907114"
      ]
     },
     "execution_count": 57,
     "metadata": {},
     "output_type": "execute_result"
    }
   ],
   "source": [
    "c1_std = np.std(df.loc[df['PERSPECTIVA'] == 'lluvioso', 'HORAS JUGADAS'])\n",
    "c1_std"
   ]
  },
  {
   "cell_type": "code",
   "execution_count": 58,
   "metadata": {},
   "outputs": [
    {
     "data": {
      "text/plain": [
       "13.676256797823008"
      ]
     },
     "execution_count": 58,
     "metadata": {},
     "output_type": "execute_result"
    }
   ],
   "source": [
    "c2_std = np.std(df.loc[df['PERSPECTIVA'] == 'soleado', 'HORAS JUGADAS'])\n",
    "c2_std"
   ]
  },
  {
   "cell_type": "code",
   "execution_count": 59,
   "metadata": {},
   "outputs": [
    {
     "data": {
      "text/plain": [
       "7.5952287654816564"
      ]
     },
     "execution_count": 59,
     "metadata": {},
     "output_type": "execute_result"
    }
   ],
   "source": [
    "c3_std = np.std(df.loc[df['PERSPECTIVA'] == 'nublado', 'HORAS JUGADAS'])\n",
    "c3_std"
   ]
  },
  {
   "cell_type": "code",
   "execution_count": null,
   "metadata": {
    "collapsed": true
   },
   "outputs": [],
   "source": []
  }
 ],
 "metadata": {
  "kernelspec": {
   "display_name": "Python 3",
   "language": "python",
   "name": "python3"
  },
  "language_info": {
   "codemirror_mode": {
    "name": "ipython",
    "version": 3
   },
   "file_extension": ".py",
   "mimetype": "text/x-python",
   "name": "python",
   "nbconvert_exporter": "python",
   "pygments_lexer": "ipython3",
   "version": "3.6.2"
  }
 },
 "nbformat": 4,
 "nbformat_minor": 2
}
