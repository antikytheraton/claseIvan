{
 "cells": [
  {
   "cell_type": "markdown",
   "metadata": {},
   "source": [
    "# Object Detection Demo\n",
    "Welcome to the object detection inference walkthrough!  This notebook will walk you step by step through the process of using a pre-trained model to detect objects in an image. Make sure to follow the [installation instructions](https://github.com/tensorflow/models/blob/master/object_detection/g3doc/installation.md) before you start."
   ]
  },
  {
   "cell_type": "markdown",
   "metadata": {},
   "source": [
    "# Imports"
   ]
  },
  {
   "cell_type": "code",
   "execution_count": 1,
   "metadata": {
    "collapsed": true,
    "scrolled": true
   },
   "outputs": [],
   "source": [
    "import numpy as np\n",
    "import os\n",
    "import six.moves.urllib as urllib\n",
    "import sys\n",
    "import tarfile\n",
    "import tensorflow as tf\n",
    "import zipfile\n",
    "\n",
    "from collections import defaultdict\n",
    "from io import StringIO\n",
    "from matplotlib import pyplot as plt\n",
    "from PIL import Image"
   ]
  },
  {
   "cell_type": "markdown",
   "metadata": {},
   "source": [
    "## Env setup"
   ]
  },
  {
   "cell_type": "code",
   "execution_count": 2,
   "metadata": {
    "collapsed": true
   },
   "outputs": [],
   "source": [
    "# This is needed to display the images.\n",
    "%matplotlib inline\n",
    "\n",
    "# This is needed since the notebook is stored in the object_detection folder.\n",
    "sys.path.append(\"..\")"
   ]
  },
  {
   "cell_type": "markdown",
   "metadata": {},
   "source": [
    "## Object detection imports\n",
    "Here are the imports from the object detection module."
   ]
  },
  {
   "cell_type": "code",
   "execution_count": 3,
   "metadata": {
    "collapsed": true
   },
   "outputs": [],
   "source": [
    "from utils import label_map_util\n",
    "\n",
    "from utils import visualization_utils as vis_util"
   ]
  },
  {
   "cell_type": "markdown",
   "metadata": {},
   "source": [
    "# Model preparation "
   ]
  },
  {
   "cell_type": "markdown",
   "metadata": {},
   "source": [
    "## Variables\n",
    "\n",
    "Any model exported using the `export_inference_graph.py` tool can be loaded here simply by changing `PATH_TO_CKPT` to point to a new .pb file.  \n",
    "\n",
    "By default we use an \"SSD with Mobilenet\" model here. See the [detection model zoo](https://github.com/tensorflow/models/blob/master/object_detection/g3doc/detection_model_zoo.md) for a list of other models that can be run out-of-the-box with varying speeds and accuracies."
   ]
  },
  {
   "cell_type": "code",
   "execution_count": 5,
   "metadata": {
    "collapsed": true
   },
   "outputs": [],
   "source": [
    "# What model to download.\n",
    "MODEL_NAME = 'faster_rcnn_inception_resnet_v2_atrous_coco_11_06_2017'\n",
    "MODEL_FILE = MODEL_NAME + '.tar.gz'\n",
    "DOWNLOAD_BASE = 'http://download.tensorflow.org/models/object_detection/'\n",
    "\n",
    "# Path to frozen detection graph. This is the actual model that is used for the object detection.\n",
    "PATH_TO_CKPT = MODEL_NAME + '/frozen_inference_graph.pb'\n",
    "\n",
    "# List of the strings that is used to add correct label for each box.\n",
    "PATH_TO_LABELS = os.path.join('data', 'mscoco_label_map.pbtxt')\n",
    "\n",
    "NUM_CLASSES = 90"
   ]
  },
  {
   "cell_type": "markdown",
   "metadata": {},
   "source": [
    "## Download Model"
   ]
  },
  {
   "cell_type": "code",
   "execution_count": 6,
   "metadata": {
    "collapsed": true
   },
   "outputs": [],
   "source": [
    "opener = urllib.request.URLopener()\n",
    "opener.retrieve(DOWNLOAD_BASE + MODEL_FILE, MODEL_FILE)\n",
    "tar_file = tarfile.open(MODEL_FILE)\n",
    "for file in tar_file.getmembers():\n",
    "  file_name = os.path.basename(file.name)\n",
    "  if 'frozen_inference_graph.pb' in file_name:\n",
    "    tar_file.extract(file, os.getcwd())"
   ]
  },
  {
   "cell_type": "markdown",
   "metadata": {},
   "source": [
    "## Load a (frozen) Tensorflow model into memory."
   ]
  },
  {
   "cell_type": "code",
   "execution_count": 7,
   "metadata": {
    "collapsed": true
   },
   "outputs": [],
   "source": [
    "detection_graph = tf.Graph()\n",
    "with detection_graph.as_default():\n",
    "  od_graph_def = tf.GraphDef()\n",
    "  with tf.gfile.GFile(PATH_TO_CKPT, 'rb') as fid:\n",
    "    serialized_graph = fid.read()\n",
    "    od_graph_def.ParseFromString(serialized_graph)\n",
    "    tf.import_graph_def(od_graph_def, name='')"
   ]
  },
  {
   "cell_type": "markdown",
   "metadata": {},
   "source": [
    "## Loading label map\n",
    "Label maps map indices to category names, so that when our convolution network predicts `5`, we know that this corresponds to `airplane`.  Here we use internal utility functions, but anything that returns a dictionary mapping integers to appropriate string labels would be fine"
   ]
  },
  {
   "cell_type": "code",
   "execution_count": 8,
   "metadata": {
    "collapsed": true
   },
   "outputs": [],
   "source": [
    "label_map = label_map_util.load_labelmap(PATH_TO_LABELS)\n",
    "categories = label_map_util.convert_label_map_to_categories(label_map, max_num_classes=NUM_CLASSES, use_display_name=True)\n",
    "category_index = label_map_util.create_category_index(categories)"
   ]
  },
  {
   "cell_type": "markdown",
   "metadata": {},
   "source": [
    "## Helper code"
   ]
  },
  {
   "cell_type": "code",
   "execution_count": 10,
   "metadata": {
    "collapsed": true
   },
   "outputs": [],
   "source": [
    "def load_image_into_numpy_array(image):\n",
    "  (im_width, im_height) = image.size\n",
    "  return np.array(image.getdata()).reshape(\n",
    "      (im_height, im_width, 3)).astype(np.uint8)"
   ]
  },
  {
   "cell_type": "markdown",
   "metadata": {},
   "source": [
    "# Detection"
   ]
  },
  {
   "cell_type": "code",
   "execution_count": 18,
   "metadata": {
    "collapsed": true
   },
   "outputs": [],
   "source": [
    "# For the sake of simplicity we will use only 2 images:\n",
    "# image1.jpg\n",
    "# image2.jpg\n",
    "# If you want to test the code with your images, just add path to the images to the TEST_IMAGE_PATHS.\n",
    "PATH_TO_TEST_IMAGES_DIR = 'test_images'\n",
    "TEST_IMAGE_PATHS = [ os.path.join(PATH_TO_TEST_IMAGES_DIR, 'img0{}.jpeg'.format(i)) for i in range(101, 999) ]\n",
    "# Size, in inches, of the output images.\n",
    "IMAGE_SIZE = (12, 8)"
   ]
  },
  {
   "cell_type": "code",
   "execution_count": 20,
   "metadata": {
    "scrolled": true
   },
   "outputs": [
    {
     "name": "stdout",
     "output_type": "stream",
     "text": [
      "[[[ 0.42575151  0.32858399  0.98760194  0.59103864]\n",
      "  [ 0.23375373  0.34569058  0.52195835  0.49478784]\n",
      "  [ 0.0313354   0.01831785  0.31221378  0.41061872]\n",
      "  [ 0.41934496  0.70384634  0.92375195  0.98434001]\n",
      "  [ 0.56525695  0.43121383  0.67124522  0.4582462 ]\n",
      "  [ 0.11268054  0.68464339  0.89794344  1.        ]\n",
      "  [ 0.38681045  0.70305502  0.95705986  0.99117756]\n",
      "  [ 0.15851703  0.69695473  0.89257812  0.99456686]\n",
      "  [ 0.          0.          0.84053695  0.96609294]\n",
      "  [ 0.2417085   0.3372896   0.69798273  0.50793177]\n",
      "  [ 0.20484719  0.90977561  0.55871987  0.97858828]\n",
      "  [ 0.05689193  0.02247235  0.4614858   0.41203001]\n",
      "  [ 0.02285973  0.01016856  0.64065289  0.46180826]\n",
      "  [ 0.31343096  0.41454476  0.35637236  0.4286862 ]\n",
      "  [ 0.13562363  0.69567001  0.87628686  0.9901402 ]\n",
      "  [ 0.21891139  0.92060596  0.38055065  0.97963196]\n",
      "  [ 0.31542671  0.41448545  0.35413158  0.42352918]\n",
      "  [ 0.0298117   0.72078228  0.26861134  0.80246133]\n",
      "  [ 0.55616081  0.42519668  0.65554535  0.46409538]\n",
      "  [ 0.31362823  0.41743132  0.3688474   0.43294603]\n",
      "  [ 0.11985784  0.51132345  0.17065288  0.55312717]\n",
      "  [ 0.07732384  0.39351761  0.13736109  0.4214876 ]\n",
      "  [ 0.29338077  0.70118564  0.91689831  0.99219829]\n",
      "  [ 0.23398834  0.69275838  0.95138085  1.        ]\n",
      "  [ 0.04766017  0.71641004  0.73170823  0.95760405]\n",
      "  [ 0.38565245  0.70028204  0.93160069  0.98372674]\n",
      "  [ 0.24505006  0.90616179  0.5537836   0.97942185]\n",
      "  [ 0.07458308  0.41377848  0.14119104  0.46821102]\n",
      "  [ 0.22257146  0.88817352  0.54831016  0.96682012]\n",
      "  [ 0.77818024  0.34691182  0.87507731  0.38888398]\n",
      "  [ 0.47005218  0.47343683  0.53228396  0.5015412 ]\n",
      "  [ 0.40314546  0.70447135  0.95801127  0.97333252]\n",
      "  [ 0.31308746  0.4243643   0.36868322  0.43635902]\n",
      "  [ 0.07228772  0.40834433  0.13781606  0.46311587]\n",
      "  [ 0.04070526  0.02204012  0.6463052   0.75815117]\n",
      "  [ 0.22564225  0.90088004  0.55762076  0.98294479]\n",
      "  [ 0.20097235  0.708857    0.83954841  0.99190646]\n",
      "  [ 0.77963948  0.34956551  0.8657307   0.38427165]\n",
      "  [ 0.41340268  0.71249479  0.90329307  0.97606397]\n",
      "  [ 0.33068025  0.9145031   0.56890422  0.97600192]\n",
      "  [ 0.07598318  0.40853292  0.13677846  0.47192404]\n",
      "  [ 0.3196969   0.41087985  0.35392949  0.41787511]\n",
      "  [ 0.30670273  0.41921499  0.399342    0.43917945]\n",
      "  [ 0.39538398  0.7170881   0.93075603  0.98783749]\n",
      "  [ 0.01519854  0.0233088   0.35282704  0.7998628 ]\n",
      "  [ 0.797979    0.36929378  0.98641795  0.539819  ]\n",
      "  [ 0.24186575  0.90517795  0.52813762  0.97504437]\n",
      "  [ 0.31827399  0.41297901  0.36657441  0.42389974]\n",
      "  [ 0.12436891  0.51128     0.17159633  0.55494332]\n",
      "  [ 0.24914917  0.90364248  0.56995088  0.9809745 ]\n",
      "  [ 0.07391172  0.39112267  0.14032733  0.42175347]\n",
      "  [ 0.24607632  0.90639788  0.56387198  0.97744375]\n",
      "  [ 0.27694011  0.9053579   0.53343666  0.97898775]\n",
      "  [ 0.07558557  0.39112368  0.13938832  0.42077717]\n",
      "  [ 0.00741282  0.62726808  1.          1.        ]\n",
      "  [ 0.71486205  0.39989167  0.98120183  0.5428226 ]\n",
      "  [ 0.07557592  0.39047986  0.13725083  0.42245716]\n",
      "  [ 0.38637233  0.71597946  0.94997197  0.98373389]\n",
      "  [ 0.47111079  0.47395152  0.53109878  0.50171912]\n",
      "  [ 0.11841815  0.50969642  0.15776519  0.54365802]\n",
      "  [ 0.30458978  0.42422912  0.40475458  0.44438016]\n",
      "  [ 0.24291469  0.90502357  0.55797386  0.98016012]\n",
      "  [ 0.07116006  0.40428934  0.14460926  0.47297043]\n",
      "  [ 0.32880434  0.71952146  0.89981306  0.99469304]\n",
      "  [ 0.20184524  0.27949604  0.97873962  0.59439522]\n",
      "  [ 0.35146707  0.71740675  0.93039352  0.988069  ]\n",
      "  [ 0.80986851  0.37787676  0.9862839   0.53141302]\n",
      "  [ 0.03087851  0.72249937  0.26231772  0.8019821 ]\n",
      "  [ 0.24323909  0.90186691  0.52694499  0.9745422 ]\n",
      "  [ 0.19257268  0.73814762  0.89912581  0.99152195]\n",
      "  [ 0.28927565  0.38512239  0.43352291  0.46767887]\n",
      "  [ 0.00719851  0.69460845  0.54033273  0.97685832]\n",
      "  [ 0.04218983  0.54740626  0.19176564  0.58304685]\n",
      "  [ 0.09278537  0.6845752   0.94111156  0.99615997]\n",
      "  [ 0.02668088  0.72651333  0.30495945  0.90810758]\n",
      "  [ 0.26928806  0.90772355  0.52330089  0.98282725]\n",
      "  [ 0.33660382  0.718723    0.90014428  0.98795688]\n",
      "  [ 0.06818375  0.05716903  0.93616742  0.59375042]\n",
      "  [ 0.03744028  0.54887879  0.19526625  0.5843088 ]\n",
      "  [ 0.56678718  0.42260361  0.67032284  0.44723102]\n",
      "  [ 0.30712777  0.40768087  0.41886553  0.43427053]\n",
      "  [ 0.03982905  0.12453987  0.74363852  0.98577577]\n",
      "  [ 0.07759988  0.39203063  0.13790812  0.42183957]\n",
      "  [ 0.0538989   0.73978287  0.52882224  0.95243198]\n",
      "  [ 0.50977677  0.40901601  0.58211392  0.42779467]\n",
      "  [ 0.          0.          0.86631858  0.9567132 ]\n",
      "  [ 0.15072532  0.91072029  0.44673467  0.98220712]\n",
      "  [ 0.79381144  0.37733385  0.99693567  0.53231007]\n",
      "  [ 0.55989629  0.42745137  0.63546222  0.45461974]\n",
      "  [ 0.03113227  0.01086017  0.32015127  0.38253596]\n",
      "  [ 0.440988    0.70844972  0.67204076  0.876499  ]\n",
      "  [ 0.01505554  0.58665705  0.50309736  0.70672327]\n",
      "  [ 0.08584239  0.27813852  0.93991917  0.96412516]\n",
      "  [ 0.22867358  0.9063741   0.51205128  0.98005587]\n",
      "  [ 0.30476427  0.41524822  0.4257789   0.44546556]\n",
      "  [ 0.78097194  0.34627643  0.8598994   0.38382471]\n",
      "  [ 0.08871274  0.82306534  0.55113202  0.96958029]\n",
      "  [ 0.12963465  0.95164877  0.17570418  0.98095119]\n",
      "  [ 0.07188927  0.39159268  0.13855742  0.41955608]\n",
      "  [ 0.          0.01139262  0.79934305  0.92797983]]] [[  1.   1.   7.  15.  32.   7.   7.   8.   7.   1.   1.   7.   7.  32.\n",
      "    6.   1.  32.  82.  32.  32.  15.  33.   9.   3.  82.   6.  36.  62.\n",
      "    1.  46.   1.  67.  32.  15.   7.   3.  82.  44.   8.   1.   3.  32.\n",
      "   32.  42.   7.  33.  21.  32.   3.  62.   8.  14.  15.  15.   6.  31.\n",
      "    3.  65.  31.  15.  32.  11.   8.  79.   1.   5.  41.  72.   8.  15.\n",
      "   27.   7.  82.   5.  82.  42.  33.   1.  14.  32.  32.   3.  62.   1.\n",
      "   77.   6.   1.  31.  32.  72.  15.  82.   7.  27.  32.  47.   1.   3.\n",
      "   82.   8.]] [ 100.]\n"
     ]
    },
    {
     "ename": "TypeError",
     "evalue": "Object does not appear to be a 8-bit string path or a Python file-like object",
     "output_type": "error",
     "traceback": [
      "\u001b[0;31m---------------------------------------------------------------------------\u001b[0m",
      "\u001b[0;31mTypeError\u001b[0m                                 Traceback (most recent call last)",
      "\u001b[0;32m<ipython-input-20-a79b66dcc7c5>\u001b[0m in \u001b[0;36m<module>\u001b[0;34m()\u001b[0m\n\u001b[1;32m     32\u001b[0m           line_thickness=8)\n\u001b[1;32m     33\u001b[0m       \u001b[0mplt\u001b[0m\u001b[0;34m.\u001b[0m\u001b[0mfigure\u001b[0m\u001b[0;34m(\u001b[0m\u001b[0mfigsize\u001b[0m\u001b[0;34m=\u001b[0m\u001b[0mIMAGE_SIZE\u001b[0m\u001b[0;34m)\u001b[0m\u001b[0;34m\u001b[0m\u001b[0m\n\u001b[0;32m---> 34\u001b[0;31m       \u001b[0mplt\u001b[0m\u001b[0;34m.\u001b[0m\u001b[0msavefig\u001b[0m\u001b[0;34m(\u001b[0m\u001b[0mimage_np\u001b[0m\u001b[0;34m)\u001b[0m\u001b[0;34m\u001b[0m\u001b[0m\n\u001b[0m",
      "\u001b[0;32m/Users/abhaydoke/tensorflow-object-detection-model/.env/lib/python2.7/site-packages/matplotlib/pyplot.pyc\u001b[0m in \u001b[0;36msavefig\u001b[0;34m(*args, **kwargs)\u001b[0m\n\u001b[1;32m    686\u001b[0m \u001b[0;32mdef\u001b[0m \u001b[0msavefig\u001b[0m\u001b[0;34m(\u001b[0m\u001b[0;34m*\u001b[0m\u001b[0margs\u001b[0m\u001b[0;34m,\u001b[0m \u001b[0;34m**\u001b[0m\u001b[0mkwargs\u001b[0m\u001b[0;34m)\u001b[0m\u001b[0;34m:\u001b[0m\u001b[0;34m\u001b[0m\u001b[0m\n\u001b[1;32m    687\u001b[0m     \u001b[0mfig\u001b[0m \u001b[0;34m=\u001b[0m \u001b[0mgcf\u001b[0m\u001b[0;34m(\u001b[0m\u001b[0;34m)\u001b[0m\u001b[0;34m\u001b[0m\u001b[0m\n\u001b[0;32m--> 688\u001b[0;31m     \u001b[0mres\u001b[0m \u001b[0;34m=\u001b[0m \u001b[0mfig\u001b[0m\u001b[0;34m.\u001b[0m\u001b[0msavefig\u001b[0m\u001b[0;34m(\u001b[0m\u001b[0;34m*\u001b[0m\u001b[0margs\u001b[0m\u001b[0;34m,\u001b[0m \u001b[0;34m**\u001b[0m\u001b[0mkwargs\u001b[0m\u001b[0;34m)\u001b[0m\u001b[0;34m\u001b[0m\u001b[0m\n\u001b[0m\u001b[1;32m    689\u001b[0m     \u001b[0mfig\u001b[0m\u001b[0;34m.\u001b[0m\u001b[0mcanvas\u001b[0m\u001b[0;34m.\u001b[0m\u001b[0mdraw_idle\u001b[0m\u001b[0;34m(\u001b[0m\u001b[0;34m)\u001b[0m   \u001b[0;31m# need this if 'transparent=True' to reset colors\u001b[0m\u001b[0;34m\u001b[0m\u001b[0m\n\u001b[1;32m    690\u001b[0m     \u001b[0;32mreturn\u001b[0m \u001b[0mres\u001b[0m\u001b[0;34m\u001b[0m\u001b[0m\n",
      "\u001b[0;32m/Users/abhaydoke/tensorflow-object-detection-model/.env/lib/python2.7/site-packages/matplotlib/figure.pyc\u001b[0m in \u001b[0;36msavefig\u001b[0;34m(self, *args, **kwargs)\u001b[0m\n\u001b[1;32m   1537\u001b[0m             \u001b[0mself\u001b[0m\u001b[0;34m.\u001b[0m\u001b[0mset_frameon\u001b[0m\u001b[0;34m(\u001b[0m\u001b[0mframeon\u001b[0m\u001b[0;34m)\u001b[0m\u001b[0;34m\u001b[0m\u001b[0m\n\u001b[1;32m   1538\u001b[0m \u001b[0;34m\u001b[0m\u001b[0m\n\u001b[0;32m-> 1539\u001b[0;31m         \u001b[0mself\u001b[0m\u001b[0;34m.\u001b[0m\u001b[0mcanvas\u001b[0m\u001b[0;34m.\u001b[0m\u001b[0mprint_figure\u001b[0m\u001b[0;34m(\u001b[0m\u001b[0;34m*\u001b[0m\u001b[0margs\u001b[0m\u001b[0;34m,\u001b[0m \u001b[0;34m**\u001b[0m\u001b[0mkwargs\u001b[0m\u001b[0;34m)\u001b[0m\u001b[0;34m\u001b[0m\u001b[0m\n\u001b[0m\u001b[1;32m   1540\u001b[0m \u001b[0;34m\u001b[0m\u001b[0m\n\u001b[1;32m   1541\u001b[0m         \u001b[0;32mif\u001b[0m \u001b[0mframeon\u001b[0m\u001b[0;34m:\u001b[0m\u001b[0;34m\u001b[0m\u001b[0m\n",
      "\u001b[0;32m/Users/abhaydoke/tensorflow-object-detection-model/.env/lib/python2.7/site-packages/matplotlib/backend_bases.pyc\u001b[0m in \u001b[0;36mprint_figure\u001b[0;34m(self, filename, dpi, facecolor, edgecolor, orientation, format, **kwargs)\u001b[0m\n\u001b[1;32m   2228\u001b[0m                 \u001b[0morientation\u001b[0m\u001b[0;34m=\u001b[0m\u001b[0morientation\u001b[0m\u001b[0;34m,\u001b[0m\u001b[0;34m\u001b[0m\u001b[0m\n\u001b[1;32m   2229\u001b[0m                 \u001b[0mbbox_inches_restore\u001b[0m\u001b[0;34m=\u001b[0m\u001b[0m_bbox_inches_restore\u001b[0m\u001b[0;34m,\u001b[0m\u001b[0;34m\u001b[0m\u001b[0m\n\u001b[0;32m-> 2230\u001b[0;31m                 **kwargs)\n\u001b[0m\u001b[1;32m   2231\u001b[0m         \u001b[0;32mfinally\u001b[0m\u001b[0;34m:\u001b[0m\u001b[0;34m\u001b[0m\u001b[0m\n\u001b[1;32m   2232\u001b[0m             \u001b[0;32mif\u001b[0m \u001b[0mbbox_inches\u001b[0m \u001b[0;32mand\u001b[0m \u001b[0mrestore_bbox\u001b[0m\u001b[0;34m:\u001b[0m\u001b[0;34m\u001b[0m\u001b[0m\n",
      "\u001b[0;32m/Users/abhaydoke/tensorflow-object-detection-model/.env/lib/python2.7/site-packages/matplotlib/backends/backend_agg.pyc\u001b[0m in \u001b[0;36mprint_png\u001b[0;34m(self, filename_or_obj, *args, **kwargs)\u001b[0m\n\u001b[1;32m    535\u001b[0m             \u001b[0mclose\u001b[0m \u001b[0;34m=\u001b[0m \u001b[0mFalse\u001b[0m\u001b[0;34m\u001b[0m\u001b[0m\n\u001b[1;32m    536\u001b[0m         \u001b[0;32mtry\u001b[0m\u001b[0;34m:\u001b[0m\u001b[0;34m\u001b[0m\u001b[0m\n\u001b[0;32m--> 537\u001b[0;31m             \u001b[0m_png\u001b[0m\u001b[0;34m.\u001b[0m\u001b[0mwrite_png\u001b[0m\u001b[0;34m(\u001b[0m\u001b[0mrenderer\u001b[0m\u001b[0;34m.\u001b[0m\u001b[0m_renderer\u001b[0m\u001b[0;34m,\u001b[0m \u001b[0mfilename_or_obj\u001b[0m\u001b[0;34m,\u001b[0m \u001b[0mself\u001b[0m\u001b[0;34m.\u001b[0m\u001b[0mfigure\u001b[0m\u001b[0;34m.\u001b[0m\u001b[0mdpi\u001b[0m\u001b[0;34m)\u001b[0m\u001b[0;34m\u001b[0m\u001b[0m\n\u001b[0m\u001b[1;32m    538\u001b[0m         \u001b[0;32mfinally\u001b[0m\u001b[0;34m:\u001b[0m\u001b[0;34m\u001b[0m\u001b[0m\n\u001b[1;32m    539\u001b[0m             \u001b[0;32mif\u001b[0m \u001b[0mclose\u001b[0m\u001b[0;34m:\u001b[0m\u001b[0;34m\u001b[0m\u001b[0m\n",
      "\u001b[0;31mTypeError\u001b[0m: Object does not appear to be a 8-bit string path or a Python file-like object"
     ]
    },
    {
     "data": {
      "text/plain": [
       "<matplotlib.figure.Figure at 0x1455b6f10>"
      ]
     },
     "metadata": {},
     "output_type": "display_data"
    }
   ],
   "source": [
    "with detection_graph.as_default():\n",
    "  with tf.Session(graph=detection_graph) as sess:\n",
    "    # Definite input and output Tensors for detection_graph\n",
    "    image_tensor = detection_graph.get_tensor_by_name('image_tensor:0')\n",
    "    # Each box represents a part of the image where a particular object was detected.\n",
    "    detection_boxes = detection_graph.get_tensor_by_name('detection_boxes:0')\n",
    "    # Each score represent how level of confidence for each of the objects.\n",
    "    # Score is shown on the result image, together with the class label.\n",
    "    detection_scores = detection_graph.get_tensor_by_name('detection_scores:0')\n",
    "    detection_classes = detection_graph.get_tensor_by_name('detection_classes:0')\n",
    "    num_detections = detection_graph.get_tensor_by_name('num_detections:0')\n",
    "    for image_path in TEST_IMAGE_PATHS:\n",
    "      image = Image.open(image_path)\n",
    "      # the array based representation of the image will be used later in order to prepare the\n",
    "      # result image with boxes and labels on it.\n",
    "      image_np = load_image_into_numpy_array(image)\n",
    "      # Expand dimensions since the model expects images to have shape: [1, None, None, 3]\n",
    "      image_np_expanded = np.expand_dims(image_np, axis=0)\n",
    "      # Actual detection.\n",
    "      (boxes, scores, classes, num) = sess.run(\n",
    "          [detection_boxes, detection_scores, detection_classes, num_detections],\n",
    "          feed_dict={image_tensor: image_np_expanded})\n",
    "      print boxes,classes,num\n",
    "      # Visualization of the results of a detection.\n",
    "      vis_util.visualize_boxes_and_labels_on_image_array(\n",
    "          image_np,\n",
    "          np.squeeze(boxes),\n",
    "          np.squeeze(classes).astype(np.int32),\n",
    "          np.squeeze(scores),\n",
    "          category_index,\n",
    "          use_normalized_coordinates=True,\n",
    "          line_thickness=8)\n",
    "      plt.figure(figsize=IMAGE_SIZE)\n",
    "      plt.savefig('result'+image_np)"
   ]
  },
  {
   "cell_type": "code",
   "execution_count": null,
   "metadata": {
    "collapsed": true
   },
   "outputs": [],
   "source": []
  }
 ],
 "metadata": {
  "kernelspec": {
   "display_name": "Python 3",
   "language": "python",
   "name": "python3"
  },
  "language_info": {
   "codemirror_mode": {
    "name": "ipython",
    "version": 3
   },
   "file_extension": ".py",
   "mimetype": "text/x-python",
   "name": "python",
   "nbconvert_exporter": "python",
   "pygments_lexer": "ipython3",
   "version": "3.6.2"
  }
 },
 "nbformat": 4,
 "nbformat_minor": 2
}
